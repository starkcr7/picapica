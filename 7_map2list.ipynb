{
 "cells": [
  {
   "cell_type": "markdown",
   "metadata": {},
   "source": [
    "#### Lab 7: Program to Map two lists into a dictionary"
   ]
  },
  {
   "cell_type": "code",
   "execution_count": 1,
   "metadata": {},
   "outputs": [
    {
     "name": "stdout",
     "output_type": "stream",
     "text": [
      "The dictionary from given two lists:\n",
      "{'A': 'Apple', 'B': 'Ball', 'C': 'cat', 'D': 'Dog', 'E': 'Elephant'}\n"
     ]
    }
   ],
   "source": [
    "# Declare one empty dictionary\n",
    "dict = {}\n",
    "\n",
    "# Declare two lists\n",
    "key_list = ['A', 'B', 'C', 'D', 'E']\n",
    "value_list = ['Apple', 'Ball', 'cat', 'Dog', 'Elephant']\n",
    "\n",
    "# Iterate for loop to create the dictionary\n",
    "for i in range(len(key_list)):\n",
    "   dict[key_list[i]] = value_list[i]\n",
    "\n",
    "# Print the dictionary\n",
    "print(\"The dictionary from given two lists:\")\n",
    "print(dict)"
   ]
  },
  {
   "cell_type": "markdown",
   "metadata": {},
   "source": [
    "Task 1: Program to map two lists into a dictionary using one for loop"
   ]
  },
  {
   "cell_type": "code",
   "execution_count": 3,
   "metadata": {
    "scrolled": true
   },
   "outputs": [
    {
     "name": "stdout",
     "output_type": "stream",
     "text": [
      "The Dictionary frm given two list:\n",
      "{'A': 'Audi', 'R': 'Rolls Royce', 'F': 'Ferrari', 'B': 'Bugatti', 'L': 'Lamborgini'}\n"
     ]
    }
   ],
   "source": [
    "# Declare the dictionary and two lists\n",
    "dict = {}\n",
    "keylist = ['A', 'R', 'F', 'B', 'L']\n",
    "valuelist = ['Audi', 'Rolls Royce', 'Ferrari', 'Bugatti', \"Lamborgini\"]\n",
    "\n",
    "# One line for loop to create the dictionary\n",
    "dict = {keylist[i]: valuelist[i] for i in range(len(keylist))}\n",
    "\n",
    "# Print the dictionary\n",
    "print(\"The Dictionary frm given two list:\")\n",
    "print(dict)"
   ]
  },
  {
   "cell_type": "markdown",
   "metadata": {},
   "source": [
    " Task 2: Program to map two lists into a dictionary"
   ]
  },
  {
   "cell_type": "code",
   "execution_count": 6,
   "metadata": {
    "scrolled": true
   },
   "outputs": [
    {
     "name": "stdout",
     "output_type": "stream",
     "text": [
      "Print the Dictionary from given 2 list :\n",
      "{'A': 'Audi', 'B': 'Bugatti', 'L': 'Lambo', 'R': 'Rolls Royce', 'S': 'Swift'}\n"
     ]
    }
   ],
   "source": [
    "# Initialize an empty dictionary\n",
    "dict = {}\n",
    "\n",
    "# List containing elements for both keys and values\n",
    "car_list = ['A', 'Audi', 'B', 'Bugatti', 'L', 'Lambo', 'R', 'Rolls Royce', 'S', 'Swift']\n",
    "\n",
    "# Loop through the list\n",
    "for i in range(len(car_list)):\n",
    "   # Check if index is even to assign values as keys\n",
    "   if i % 2 == 0:\n",
    "       dict[car_list[i]] = car_list[i + 1]\n",
    "\n",
    "# Print the dictionary\n",
    "print(\"Print the Dictionary from given 2 list :\")\n",
    "print(dict)"
   ]
  }
 ],
 "metadata": {
  "kernelspec": {
   "display_name": "Python 3 (ipykernel)",
   "language": "python",
   "name": "python3"
  },
  "language_info": {
   "codemirror_mode": {
    "name": "ipython",
    "version": 3
   },
   "file_extension": ".py",
   "mimetype": "text/x-python",
   "name": "python",
   "nbconvert_exporter": "python",
   "pygments_lexer": "ipython3",
   "version": "3.12.2"
  }
 },
 "nbformat": 4,
 "nbformat_minor": 4
}
