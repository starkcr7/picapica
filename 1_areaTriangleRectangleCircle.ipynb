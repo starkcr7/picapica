{
 "cells": [
  {
   "cell_type": "markdown",
   "id": "22d69933-f196-4777-a89f-23ac50bd3e3b",
   "metadata": {},
   "source": [
    "# Lab 1 - Program to calculate Area of Traingle, Rectangle And Circle."
   ]
  },
  {
   "cell_type": "markdown",
   "id": "1f180c47-0f1f-4541-85cf-ccca5c9edb06",
   "metadata": {},
   "source": [
    "**1.Calculating the area of a triangle using Heron's formula**"
   ]
  },
  {
   "cell_type": "code",
   "execution_count": 2,
   "id": "e4427cc8-c118-49e2-b928-888609063259",
   "metadata": {},
   "outputs": [
    {
     "name": "stdin",
     "output_type": "stream",
     "text": [
      "Enter the first side length of the triangle:  3\n",
      "Enter the second side length of the triangle:  6\n",
      "Enter the third side length of the triangle:  7\n"
     ]
    },
    {
     "name": "stdout",
     "output_type": "stream",
     "text": [
      "The area of the triangle is 8.94427190999916\n"
     ]
    }
   ],
   "source": [
    "import math\n",
    "\n",
    "def triangle_area_heron(a, b, c):\n",
    "    s = (a + b + c) / 2\n",
    "    area = math.sqrt(s * (s - a) * (s - b) * (s - c))\n",
    "    return area\n",
    "\n",
    "# Inputting the values of the three sides of the triangle\n",
    "a = float(input(\"Enter the first side length of the triangle: \"))\n",
    "b = float(input(\"Enter the second side length of the triangle: \"))\n",
    "c = float(input(\"Enter the third side length of the triangle: \"))\n",
    "\n",
    "# Printing the result\n",
    "print(\"The area of the triangle is\", triangle_area_heron(a, b, c))\n"
   ]
  },
  {
   "cell_type": "markdown",
   "id": "b33ec2e2-a593-4ddb-bacb-5d45e0f7999a",
   "metadata": {},
   "source": [
    "**2.Program to calculate Area of Traingle, Rectangle And Circle**"
   ]
  },
  {
   "cell_type": "code",
   "execution_count": 2,
   "id": "eabd28a6-ff44-4e7c-94b5-0eeb8cf6b08e",
   "metadata": {},
   "outputs": [
    {
     "name": "stdin",
     "output_type": "stream",
     "text": [
      "Enter the number between 1 to 4 to calculate area of\n",
      " 1.Circle\n",
      " 2.Rectangle\n",
      " 3.Traingle\n",
      " 4.exit\n",
      " 1\n",
      "Enter the value of radius - 4\n"
     ]
    },
    {
     "name": "stdout",
     "output_type": "stream",
     "text": [
      "The area of Circle is : 4.56\n"
     ]
    },
    {
     "name": "stdin",
     "output_type": "stream",
     "text": [
      "Enter the number between 1 to 4 to calculate area of\n",
      " 1.Circle\n",
      " 2.Rectangle\n",
      " 3.Traingle\n",
      " 4.exit\n",
      " 2\n",
      "Enter the value of length - 2\n",
      "Enter the value of breadth - 5\n"
     ]
    },
    {
     "name": "stdout",
     "output_type": "stream",
     "text": [
      "The area of Rectangle is : 10\n"
     ]
    },
    {
     "name": "stdin",
     "output_type": "stream",
     "text": [
      "Enter the number between 1 to 4 to calculate area of\n",
      " 1.Circle\n",
      " 2.Rectangle\n",
      " 3.Traingle\n",
      " 4.exit\n",
      " 3\n",
      "Enter the value of length -  5\n",
      "Enter the value of height - 3\n"
     ]
    },
    {
     "name": "stdout",
     "output_type": "stream",
     "text": [
      "the area of Triangle is : 7.5\n"
     ]
    },
    {
     "name": "stdin",
     "output_type": "stream",
     "text": [
      "Enter the number between 1 to 4 to calculate area of\n",
      " 1.Circle\n",
      " 2.Rectangle\n",
      " 3.Traingle\n",
      " 4.exit\n",
      " 4\n"
     ]
    }
   ],
   "source": [
    "\n",
    "while(1):\n",
    "    A=int(input(\"Enter the number between 1 to 4 to calculate area of\\n 1.Circle\\n 2.Rectangle\\n 3.Traingle\\n 4.exit\\n\"))\n",
    "    if (A==1):\n",
    "          r=int(input(\"Enter the value of radius -\"))\n",
    "          areal =1.14*r\n",
    "          print(\"The area of Circle is :\",areal)\n",
    "\n",
    "    elif (A == 2):\n",
    "          l=int(input(\"Enter the value of length -\"))\n",
    "          b= int(input(\"Enter the value of breadth -\"))\n",
    "          area2 =l*b\n",
    "          print(\"The area of Rectangle is :\", area2)\n",
    "\n",
    "    elif (A==3):\n",
    "            l = int(input(\"Enter the value of length - \")) \n",
    "            h= int(input(\"Enter the value of height -\"))\n",
    "            area3 =0.5*l*h \n",
    "            print(\"the area of Triangle is :\", area3)\n",
    "\n",
    "    elif (A==4):\n",
    "        \n",
    "        break\n",
    "    \n",
    "    else :\n",
    "            print (\"Enter The Correct Choice\")\n",
    "\n",
    "\n"
   ]
  },
  {
   "cell_type": "code",
   "execution_count": null,
   "id": "a5145aa5-628d-46b6-a09f-919527ed37cd",
   "metadata": {},
   "outputs": [],
   "source": []
  }
 ],
 "metadata": {
  "kernelspec": {
   "display_name": "Python 3 (ipykernel)",
   "language": "python",
   "name": "python3"
  },
  "language_info": {
   "codemirror_mode": {
    "name": "ipython",
    "version": 3
   },
   "file_extension": ".py",
   "mimetype": "text/x-python",
   "name": "python",
   "nbconvert_exporter": "python",
   "pygments_lexer": "ipython3",
   "version": "3.12.2"
  }
 },
 "nbformat": 4,
 "nbformat_minor": 5
}
