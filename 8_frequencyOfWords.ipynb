{
 "cells": [
  {
   "cell_type": "markdown",
   "metadata": {},
   "source": [
    "Lab 8: Program to count frequency of words appearing in a string using dictionary"
   ]
  },
  {
   "cell_type": "code",
   "execution_count": 1,
   "metadata": {},
   "outputs": [
    {
     "name": "stdout",
     "output_type": "stream",
     "text": [
      "Dictionary with word and its frequency = \n",
      "{'audi': 2, 'RollsRoyce': 1, 'bugatti': 2, 'lambo': 1, 'swift': 1, 'Renault': 1, 'ferrari': 1}\n"
     ]
    }
   ],
   "source": [
    "def count_word(str):\n",
    "   # Split the string into words\n",
    "   words = str.split()\n",
    "   unique_word = []  # to store unique words in string\n",
    "   count_list = []  # to store the frequency of each unique word\n",
    "   dict = {}  # to store the (word: frequency)\n",
    "\n",
    "   # Find unique words and their frequencies\n",
    "   for word in words:\n",
    "       if word not in unique_word:\n",
    "           unique_word.append(word)\n",
    "           count_list.append(words.count(word))\n",
    "\n",
    "   # Create the dictionary\n",
    "   for i in range(len(unique_word)):\n",
    "       dict[unique_word[i]] = count_list[i]\n",
    "\n",
    "   return dict\n",
    "\n",
    "if __name__ == '__main__':\n",
    "   str = \"audi RollsRoyce bugatti lambo audi swift Renault bugatti ferrari\"\n",
    "   print(\"Dictionary with word and its frequency = \")\n",
    "   print(count_word(str))"
   ]
  },
  {
   "cell_type": "markdown",
   "metadata": {},
   "source": [
    "Using Zip Function"
   ]
  },
  {
   "cell_type": "code",
   "execution_count": 2,
   "metadata": {},
   "outputs": [
    {
     "name": "stdout",
     "output_type": "stream",
     "text": [
      "{'Great': 1, 'dreams': 1, 'of': 1, 'great': 1, 'dreamers': 1, 'are': 1, 'always': 1, 'transcended.': 1, 'One': 1, 'Good': 1, 'book': 1, 'is': 2, 'equal': 2, 'to': 2, 'one': 2, 'good': 2, 'friend': 2, 'but': 1, 'library.': 1}\n"
     ]
    }
   ],
   "source": [
    "def frequency_count(str):\n",
    "   str = str.split()\n",
    "   mylist1 = []\n",
    "   for i in str:\n",
    "       if i not in mylist1:\n",
    "           mylist1.append(i)\n",
    "   mylist2 = []\n",
    "   for i in range(len(mylist1)):\n",
    "       c = str.count(mylist1[i])\n",
    "       mylist2.append(c)\n",
    "   return dict(zip(mylist1, mylist2))\n",
    "\n",
    "# Calling the function\n",
    "string1 = \"Great dreams of great dreamers are always transcended. One Good book is equal to one good friend but one good friend is equal to library.\"\n",
    "d = frequency_count(string1)\n",
    "\n",
    "# Print the dictionary\n",
    "print(dict(d))"
   ]
  },
  {
   "cell_type": "markdown",
   "metadata": {},
   "source": [
    "Program to create dictionary in which user take input of n numbers as a key and find its square as value"
   ]
  },
  {
   "cell_type": "code",
   "execution_count": 4,
   "metadata": {},
   "outputs": [
    {
     "name": "stdout",
     "output_type": "stream",
     "text": [
      "Enter the number of keys: 5\n",
      "{1: 1, 2: 4, 3: 9, 4: 16, 5: 25}\n"
     ]
    }
   ],
   "source": [
    "def create_dictionary(num):\n",
    "   dict = {}\n",
    "   for i in range(1, num+1):\n",
    "       dict[i] = i*i\n",
    "   return dict\n",
    "\n",
    "# Input values from user\n",
    "num = int(input(\"Enter the number of keys: \"))\n",
    "\n",
    "# Calling the function\n",
    "print(create_dictionary(num))"
   ]
  }
 ],
 "metadata": {
  "kernelspec": {
   "display_name": "Python 3",
   "language": "python",
   "name": "python3"
  },
  "language_info": {
   "codemirror_mode": {
    "name": "ipython",
    "version": 3
   },
   "file_extension": ".py",
   "mimetype": "text/x-python",
   "name": "python",
   "nbconvert_exporter": "python",
   "pygments_lexer": "ipython3",
   "version": "3.7.0"
  }
 },
 "nbformat": 4,
 "nbformat_minor": 2
}
