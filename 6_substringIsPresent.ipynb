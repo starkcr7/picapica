{
 "cells": [
  {
   "cell_type": "markdown",
   "id": "75068c6e-2ace-494b-b328-73ad66ca6738",
   "metadata": {},
   "source": [
    "#### Method 1: Using in Operator"
   ]
  },
  {
   "cell_type": "code",
   "execution_count": 1,
   "id": "4e479da6-a730-4fb9-ae58-bac28dd3ddcb",
   "metadata": {},
   "outputs": [
    {
     "name": "stdout",
     "output_type": "stream",
     "text": [
      "Substring is present in string\n"
     ]
    }
   ],
   "source": [
    "string = \"DSR Computer Engineering in Lab3\"\n",
    "substr = \"Lab3\"\n",
    "if substr in string:\n",
    "    print(\"Substring is present in string\")\n",
    "else:\n",
    "    print(\"Substring is not present in string\")"
   ]
  },
  {
   "cell_type": "markdown",
   "id": "eeada8e6-25a2-4e01-82ec-43fb32583a03",
   "metadata": {},
   "source": [
    "#### Method 2: Using split() Method"
   ]
  },
  {
   "cell_type": "code",
   "execution_count": 2,
   "id": "db4e47a8-40ae-4014-8d9f-3b7963f51c3b",
   "metadata": {},
   "outputs": [
    {
     "name": "stdout",
     "output_type": "stream",
     "text": [
      "Substring is present in string\n"
     ]
    }
   ],
   "source": [
    "string = \"DSR Computer Engineering in Lab3\"\n",
    "substr = \"Lab3\"\n",
    "a = string.split()\n",
    "if substr in a:\n",
    "    print(\"Substring is present in string\")\n",
    "else:\n",
    "    print(\"Substring is not present in string\")"
   ]
  },
  {
   "cell_type": "markdown",
   "id": "813ea655-ebb9-4a11-ae5c-7c78945e0ea0",
   "metadata": {},
   "source": [
    "#### Method 3: Using find() Method"
   ]
  },
  {
   "cell_type": "code",
   "execution_count": 5,
   "id": "cb144092-af67-4223-97c3-4770e5958c42",
   "metadata": {},
   "outputs": [
    {
     "name": "stdout",
     "output_type": "stream",
     "text": [
      "Substring is present in string\n"
     ]
    }
   ],
   "source": [
    "def find_substr(s1, s2):\n",
    "    if s1.find(s2) == -1:\n",
    "        print(\"Substring is not present in string\")\n",
    "    else:\n",
    "        print(\"Substring is present in string\")\n",
    " \n",
    "s1 = \"Today is friday\"\n",
    "s2 = \"friday\"\n",
    "find_substr(s1, s2)"
   ]
  },
  {
   "cell_type": "markdown",
   "id": "b6718198-5991-4209-9ef8-8494425b0870",
   "metadata": {},
   "source": [
    "#### Method 4: Using count() Method"
   ]
  },
  {
   "cell_type": "code",
   "execution_count": 8,
   "id": "cc76660b-ca2f-4cd5-af39-62e17b26d8d1",
   "metadata": {},
   "outputs": [
    {
     "name": "stdout",
     "output_type": "stream",
     "text": [
      "Substring is present in string\n"
     ]
    }
   ],
   "source": [
    "def count_substr(s1, s2):\n",
    "    if s1.count(s2) > 0:\n",
    "        print(\"Substring is present in string\")\n",
    "    else:\n",
    "        print(\"Substring is not present in string\")\n",
    " \n",
    "s1 = \"Today is friday\"\n",
    "s2 = \"friday\"\n",
    "count_substr(s1, s2)"
   ]
  },
  {
   "cell_type": "markdown",
   "id": "ef796a2a-1982-451e-b226-1545f74a4823",
   "metadata": {},
   "source": [
    "#### Method 5: Using index() Method"
   ]
  },
  {
   "cell_type": "code",
   "execution_count": 9,
   "id": "a595b079-6d23-4e94-b293-b806fb07fe9c",
   "metadata": {},
   "outputs": [
    {
     "name": "stdout",
     "output_type": "stream",
     "text": [
      "Substring 'programming' found at index 12\n"
     ]
    }
   ],
   "source": [
    "string = \"Python is a programming language\"\n",
    "try:\n",
    "    index = string.index('programming')\n",
    "    print(\"Substring 'programming' found at index {}\".format(index))\n",
    "except ValueError:\n",
    "    print(\"Substring is not present in string\")"
   ]
  }
 ],
 "metadata": {
  "kernelspec": {
   "display_name": "Python 3 (ipykernel)",
   "language": "python",
   "name": "python3"
  },
  "language_info": {
   "codemirror_mode": {
    "name": "ipython",
    "version": 3
   },
   "file_extension": ".py",
   "mimetype": "text/x-python",
   "name": "python",
   "nbconvert_exporter": "python",
   "pygments_lexer": "ipython3",
   "version": "3.12.2"
  }
 },
 "nbformat": 4,
 "nbformat_minor": 5
}
