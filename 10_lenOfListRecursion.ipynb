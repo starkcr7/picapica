{
 "cells": [
  {
   "cell_type": "markdown",
   "metadata": {},
   "source": [
    "Lab 10: Program to find length of a list using recursion"
   ]
  },
  {
   "cell_type": "code",
   "execution_count": 1,
   "metadata": {},
   "outputs": [
    {
     "name": "stdout",
     "output_type": "stream",
     "text": [
      "List:  [12, 43, 50, 10, 72, 79, 99]\n",
      "Length of list: \n",
      "7\n"
     ]
    }
   ],
   "source": [
    "def list_len(my_list):\n",
    "   if not my_list:\n",
    "       return 0\n",
    "   return 1 + list_len(my_list[1::2]) + list_len(my_list[2::2])\n",
    "\n",
    "my_list = [12, 43, 50, 10, 72, 79, 99]\n",
    "print(\"List: \", my_list)\n",
    "print(\"Length of list: \")\n",
    "print(list_len(my_list))"
   ]
  },
  {
   "cell_type": "markdown",
   "metadata": {},
   "source": [
    "Task 1: Program to flatten nested list using recursion"
   ]
  },
  {
   "cell_type": "code",
   "execution_count": 2,
   "metadata": {},
   "outputs": [
    {
     "name": "stdout",
     "output_type": "stream",
     "text": [
      "The Flattened list is:  [12, 10, 21, 13, 44, 45, 87, 125, 12, 82]\n"
     ]
    }
   ],
   "source": [
    "def flatten_list(L):\n",
    "   if L == []:\n",
    "       return L\n",
    "   if isinstance(L[0], list):\n",
    "       return flatten_list(L[0]) + flatten_list(L[1:])\n",
    "   return L[:1] + flatten_list(L[1:])\n",
    "\n",
    "s = [[12, 10, 21], [13, 44], [45, 87, 125], [12, 82]]\n",
    "print(\"The Flattened list is: \", flatten_list(s))"
   ]
  },
  {
   "cell_type": "markdown",
   "metadata": {},
   "source": [
    "Task 2: Program to find sum of each element in list and sum of remainder of a element in a list when divided by 2 using recursion"
   ]
  },
  {
   "cell_type": "code",
   "execution_count": 3,
   "metadata": {},
   "outputs": [
    {
     "name": "stdout",
     "output_type": "stream",
     "text": [
      "The Sum of the elements in the list is 212\n",
      "Enter a number by which you want to divide the elements in the list: 4\n",
      "The sum of remainders of the elements when divided by 4 is 4\n"
     ]
    }
   ],
   "source": [
    "def listsum(list1):\n",
    "   if len(list1) == 1:\n",
    "       return list1[0]\n",
    "   else:\n",
    "       return list1[0] + listsum(list1[1:])\n",
    "\n",
    "def osm(listl, c):\n",
    "   if len(listl) == 1:\n",
    "       return listl[0] % c\n",
    "   else:\n",
    "       return listl[0] % c + osm(listl[1:], c)\n",
    "\n",
    "list1 = [12, 92, 33, 14, 25, 36]\n",
    "total_sum = listsum(list1)\n",
    "print(\"The Sum of the elements in the list is\", total_sum)\n",
    "\n",
    "divisor = int(input(\"Enter a number by which you want to divide the elements in the list: \"))\n",
    "remainder_sum = osm(list1, divisor)\n",
    "print(\"The sum of remainders of the elements when divided by\", divisor, \"is\", remainder_sum)"
   ]
  }
 ],
 "metadata": {
  "kernelspec": {
   "display_name": "Python 3",
   "language": "python",
   "name": "python3"
  },
  "language_info": {
   "codemirror_mode": {
    "name": "ipython",
    "version": 3
   },
   "file_extension": ".py",
   "mimetype": "text/x-python",
   "name": "python",
   "nbconvert_exporter": "python",
   "pygments_lexer": "ipython3",
   "version": "3.7.0"
  }
 },
 "nbformat": 4,
 "nbformat_minor": 2
}
