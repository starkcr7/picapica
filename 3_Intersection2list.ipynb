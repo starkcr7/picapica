{
 "cells": [
  {
   "cell_type": "markdown",
   "id": "c227208f-6b86-4761-9ad4-a8d9f032fc93",
   "metadata": {},
   "source": [
    "# Lab 3: Program to find intersection of two lists"
   ]
  },
  {
   "cell_type": "markdown",
   "id": "3f2e63c2-35ab-4b4d-8f6e-5366a87af909",
   "metadata": {},
   "source": [
    "**Define Function**"
   ]
  },
  {
   "cell_type": "code",
   "execution_count": 1,
   "id": "0b45ef53-b7a1-48b8-baf3-28eee61dec91",
   "metadata": {},
   "outputs": [],
   "source": [
    "def intersect_list(l1, l2):\n",
    " l3 = [value for value in l1 if value in l2]\n",
    " return l3"
   ]
  },
  {
   "cell_type": "markdown",
   "id": "e8c123f8-1124-4197-b4d2-ae8ab96f3f3c",
   "metadata": {},
   "source": [
    "**Create lists**"
   ]
  },
  {
   "cell_type": "code",
   "execution_count": 2,
   "id": "4556b7fa-94ac-4c52-ac4a-476e877a6d64",
   "metadata": {},
   "outputs": [],
   "source": [
    "l1 = [1,5,4,11,8,10,6,3,7,2]\n",
    "l2 = [5,10,7,6,3,2,1,11,5,4]"
   ]
  },
  {
   "cell_type": "markdown",
   "id": "bda04a1d-9eef-4cb0-ad3c-2184e1ac1854",
   "metadata": {},
   "source": [
    "**Output**"
   ]
  },
  {
   "cell_type": "code",
   "execution_count": 4,
   "id": "aea80b0c-623f-4e4c-b9d9-8c4293b4bccf",
   "metadata": {},
   "outputs": [
    {
     "name": "stdout",
     "output_type": "stream",
     "text": [
      "List 1 [1, 5, 4, 11, 8, 10, 6, 3, 7, 2]\n",
      "List 2 [5, 10, 7, 6, 3, 2, 1, 11, 5, 4]\n",
      "Intersection of two lists:  [1, 5, 4, 11, 10, 6, 3, 7, 2]\n"
     ]
    }
   ],
   "source": [
    "print(\"List 1\", l1)\n",
    "print(\"List 2\", l2)\n",
    "l3 = intersect_list(l1, l2)\n",
    "print(\"Intersection of two lists: \", l3)\n"
   ]
  },
  {
   "cell_type": "markdown",
   "id": "58a0c353-3768-43bc-9629-27226d5bbe43",
   "metadata": {},
   "source": [
    "**Task 1: Program to find intersection of two list without using one line for loop**"
   ]
  },
  {
   "cell_type": "code",
   "execution_count": 7,
   "id": "3b0f1c3f-c345-49fa-b57e-da2d9c9e9f36",
   "metadata": {},
   "outputs": [
    {
     "name": "stdout",
     "output_type": "stream",
     "text": [
      "Intersection of two lists: [1, 5, 4, 11, 10, 6, 3, 7, 2]\n"
     ]
    }
   ],
   "source": [
    "l1 = [1,5,4,11,8,10,6,3,7,2]\n",
    "l2 = [5,10,7,6,3,2,1,11,4]\n",
    "l3 = []\n",
    "for i in range(len(l1)):\n",
    "     for j in range(len(l2)):\n",
    "         if (l1[i] == l2[j]):\n",
    "             l3.append(l1[i])\n",
    "print(\"Intersection of two lists:\", l3)"
   ]
  }
 ],
 "metadata": {
  "kernelspec": {
   "display_name": "Python 3 (ipykernel)",
   "language": "python",
   "name": "python3"
  },
  "language_info": {
   "codemirror_mode": {
    "name": "ipython",
    "version": 3
   },
   "file_extension": ".py",
   "mimetype": "text/x-python",
   "name": "python",
   "nbconvert_exporter": "python",
   "pygments_lexer": "ipython3",
   "version": "3.12.2"
  }
 },
 "nbformat": 4,
 "nbformat_minor": 5
}
