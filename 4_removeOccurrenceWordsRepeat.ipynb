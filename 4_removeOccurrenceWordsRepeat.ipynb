{
 "cells": [
  {
   "cell_type": "markdown",
   "id": "7c60b788-9fa8-438b-8d13-b9179fe38fd5",
   "metadata": {},
   "source": [
    "# Lab 4: Program to remove the -ith occurrence of the given word in a list where words repeat."
   ]
  },
  {
   "cell_type": "markdown",
   "id": "1a03678c-6f8c-43a6-bbd1-e522bc9f75db",
   "metadata": {},
   "source": [
    "**Program to remove the -ith occurrence of the given word in a list where words repeat.**"
   ]
  },
  {
   "cell_type": "code",
   "execution_count": null,
   "id": "f1d40aff-6d2a-4ecd-9f96-017a7a876954",
   "metadata": {},
   "outputs": [],
   "source": [
    "def remove_word(list1, word, i):\n",
    "    count = 0\n",
    "    index = 0\n",
    "    while index < len(list1):\n",
    "        if list1[index] == word:\n",
    "            count += 1\n",
    "            if count == i:\n",
    "                list1.pop(index)\n",
    "                # No need to increment index here because the list length has changed\n",
    "                count = 0\n",
    "                continue\n",
    "        index += 1\n",
    "    return list1\n",
    "\n",
    "list1 = ['orange', 'mango', 'apple', 'mango', 'orange', 'kiwi', 'mango']\n",
    "word = 'mango'\n",
    "i = 3\n",
    "print(\"The list before deletion: \", list1)\n",
    "print(\"The list after deletion: \", remove_word(list1, word, i))\n"
   ]
  },
  {
   "cell_type": "markdown",
   "id": "13b1d075-75eb-4292-898e-aedabcacbb0d",
   "metadata": {},
   "source": [
    "**Task 1: Program to delete ith occurence of word in list where word repeat using del function andstored the result in new list.**"
   ]
  },
  {
   "cell_type": "code",
   "execution_count": 2,
   "id": "c3f8ecd5-8172-4723-841c-c69bf78202e0",
   "metadata": {},
   "outputs": [
    {
     "name": "stdout",
     "output_type": "stream",
     "text": [
      "The original list:  ['orange', 'mango', 'apple', 'mango', 'orange', 'kiwi', 'mango']\n",
      "The list after deletion:  ['orange', 'apple', 'mango', 'orange', 'kiwi', 'mango']\n"
     ]
    }
   ],
   "source": [
    "def remove_word(list1, word, i):\n",
    "    count = 0\n",
    "    new_list = list1[:]\n",
    "    index = 0\n",
    "    while index < len(new_list):\n",
    "        if new_list[index] == word:\n",
    "            count += 1\n",
    "            if count == i:\n",
    "                del new_list[index]\n",
    "                break  # Exit the loop after deleting the i-th occurrence\n",
    "        else:\n",
    "            index += 1\n",
    "    return new_list\n",
    "\n",
    "list1 = ['orange', 'mango', 'apple', 'mango', 'orange', 'kiwi', 'mango']\n",
    "word = 'mango'\n",
    "i = 3\n",
    "print(\"The original list: \", list1)\n",
    "new_list = remove_word(list1, word, i)\n",
    "print(\"The list after deletion: \", new_list)\n"
   ]
  },
  {
   "cell_type": "markdown",
   "id": "d11c679c-4c5d-4deb-a5bb-5e5ad04ce975",
   "metadata": {},
   "source": [
    "**Task 2: Program to remove every even occurrence of the given word in a list where words repeat.**\n"
   ]
  },
  {
   "cell_type": "code",
   "execution_count": null,
   "id": "da0dd9a7-23ec-46c4-8e29-9c0ee4c9e6c8",
   "metadata": {},
   "outputs": [],
   "source": []
  }
 ],
 "metadata": {
  "kernelspec": {
   "display_name": "Python 3 (ipykernel)",
   "language": "python",
   "name": "python3"
  },
  "language_info": {
   "codemirror_mode": {
    "name": "ipython",
    "version": 3
   },
   "file_extension": ".py",
   "mimetype": "text/x-python",
   "name": "python",
   "nbconvert_exporter": "python",
   "pygments_lexer": "ipython3",
   "version": "3.12.2"
  }
 },
 "nbformat": 4,
 "nbformat_minor": 5
}
