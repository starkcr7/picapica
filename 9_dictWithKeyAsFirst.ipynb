{
 "cells": [
  {
   "cell_type": "markdown",
   "metadata": {},
   "source": [
    "Lab 9: Program to create a dictionary with key as first character and value as words starting with that character"
   ]
  },
  {
   "cell_type": "code",
   "execution_count": 1,
   "metadata": {},
   "outputs": [
    {
     "name": "stdout",
     "output_type": "stream",
     "text": [
      "Enter the string :Python is my fav language\n",
      "Dictionary with key as first char of word and word as value is:\n",
      "{'P': ['Python'], 'i': ['is'], 'm': ['my'], 'f': ['fav'], 'l': ['language']}\n"
     ]
    }
   ],
   "source": [
    "def create_dictionary(str):\n",
    "   # Split the string into a list of words\n",
    "   str = str.split()\n",
    "   # Create an empty dictionary\n",
    "   dict = {}\n",
    "   # Iterate over each word in the list\n",
    "   for word in str:\n",
    "       # Get the first character of the word\n",
    "       first_char = word[0]\n",
    "       # Check if the first character is already a key in the dictionary\n",
    "       if first_char not in dict.keys():\n",
    "           # If not, add the first character as a key and an empty list as the value\n",
    "           dict[first_char] = []\n",
    "       # Append the word to the list of words associated with the first character\n",
    "       dict[first_char].append(word)\n",
    "   # Return the dictionary\n",
    "   return dict\n",
    "\n",
    "# Driver code\n",
    "if __name__ == '__main__':\n",
    "   # Prompt the user to enter a string\n",
    "   str = input(\"Enter the string :\")\n",
    "   print(\"Dictionary with key as first char of word and word as value is:\")\n",
    "   # Call the create_dictionary function to create a dictionary from the input string\n",
    "   # Print the dictionary\n",
    "   print(create_dictionary(str))"
   ]
  },
  {
   "cell_type": "markdown",
   "metadata": {},
   "source": [
    "Task 1: Create nested dictionary which contains serial no. as keys and value as record of student task 1(roll no.,name,department and semester)"
   ]
  },
  {
   "cell_type": "code",
   "execution_count": 3,
   "metadata": {},
   "outputs": [
    {
     "name": "stdout",
     "output_type": "stream",
     "text": [
      "How many students do you want to add? 3\n",
      "\n",
      "Enter details for student 1:\n",
      "Enter Roll Number: 49\n",
      "Enter Name: Ishan\n",
      "Enter Department: Computer Engg\n",
      "Enter Semester: 4\n",
      "\n",
      "Enter details for student 2:\n",
      "Enter Roll Number: 48\n",
      "Enter Name: Nayan\n",
      "Enter Department: Computer Engg\n",
      "Enter Semester: 4\n",
      "\n",
      "Enter details for student 3:\n",
      "Enter Roll Number: 44\n",
      "Enter Name: Gaurav\n",
      "Enter Department: Computer Engg\n",
      "Enter Semester: 4\n",
      "\n",
      "\n",
      "\n",
      "Student records:\n",
      "{1: {'roll_no': '49', 'name': 'Ishan', 'department': 'Computer Engg', 'semester': 4}, 2: {'roll_no': '48', 'name': 'Nayan', 'department': 'Computer Engg', 'semester': 4}, 3: {'roll_no': '44', 'name': 'Gaurav', 'department': 'Computer Engg', 'semester': 4}}\n"
     ]
    }
   ],
   "source": [
    "student_records = {}\n",
    "num_students = int(input(\"How many students do you want to add? \"))\n",
    "\n",
    "for i in range(1, num_students + 1):\n",
    "   print(f\"\\nEnter details for student {i}:\")\n",
    "   roll_no = input(\"Enter Roll Number: \")\n",
    "   name = input(\"Enter Name: \")\n",
    "   department = input(\"Enter Department: \")\n",
    "   semester = int(input(\"Enter Semester: \"))\n",
    "   student_records[i] = {\"roll_no\": roll_no, \"name\": name, \"department\": department, \"semester\": semester}\n",
    "\n",
    "print(\"\\n\")\n",
    "print(\"\\nStudent records:\")\n",
    "print(student_records)"
   ]
  },
  {
   "cell_type": "markdown",
   "metadata": {},
   "source": [
    "Program to create nested dictionary with key as a first character and value as dictionary containing word as a key and its frequency as value"
   ]
  },
  {
   "cell_type": "code",
   "execution_count": 4,
   "metadata": {},
   "outputs": [
    {
     "name": "stdout",
     "output_type": "stream",
     "text": [
      "Enter your text: this is the first lecture of python and i hope you all will enjoy learning python. This is because python is easy and most popular world wide language also let me tell you this pdf was created by Ishan all credits to him!!\n",
      "{'t': {'this': 2, 'the': 1, 'tell': 1, 'to': 1}, 'i': {'is': 3, 'i': 1}, 'f': {'first': 1}, 'l': {'lecture': 1, 'learning': 1, 'language': 1, 'let': 1}, 'o': {'of': 1}, 'p': {'python': 2, 'python.': 1, 'popular': 1, 'pdf': 1}, 'a': {'and': 2, 'all': 2, 'also': 1}, 'h': {'hope': 1, 'him!!': 1}, 'y': {'you': 2}, 'w': {'will': 1, 'world': 1, 'wide': 1, 'was': 1}, 'e': {'enjoy': 1, 'easy': 1}, 'T': {'This': 1}, 'b': {'because': 1, 'by': 1}, 'm': {'most': 1, 'me': 1}, 'c': {'created': 1, 'credits': 1}, 'I': {'Ishan': 1}}\n"
     ]
    }
   ],
   "source": [
    "text = input(\"Enter your text: \")\n",
    "nested_dict = {}\n",
    "words = text.split()\n",
    "\n",
    "for word in words:\n",
    "   first_char = word[0]\n",
    "   if first_char not in nested_dict:\n",
    "       nested_dict[first_char] = {}\n",
    "   if word not in nested_dict[first_char]:\n",
    "       nested_dict[first_char][word] = 0\n",
    "   nested_dict[first_char][word] += 1\n",
    "\n",
    "print(nested_dict)"
   ]
  }
 ],
 "metadata": {
  "kernelspec": {
   "display_name": "Python 3",
   "language": "python",
   "name": "python3"
  },
  "language_info": {
   "codemirror_mode": {
    "name": "ipython",
    "version": 3
   },
   "file_extension": ".py",
   "mimetype": "text/x-python",
   "name": "python",
   "nbconvert_exporter": "python",
   "pygments_lexer": "ipython3",
   "version": "3.7.0"
  }
 },
 "nbformat": 4,
 "nbformat_minor": 2
}
