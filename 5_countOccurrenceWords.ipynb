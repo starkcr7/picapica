{
 "cells": [
  {
   "cell_type": "markdown",
   "id": "3aa1bda3-5ec7-4f8d-bacf-a30600312960",
   "metadata": {},
   "source": [
    "**Lab 5: Program to count the occurrences of each word in a given string sentence.**"
   ]
  },
  {
   "cell_type": "code",
   "execution_count": 1,
   "id": "2101f1a9-164f-4dd3-9812-4beb689dfd7c",
   "metadata": {},
   "outputs": [
    {
     "name": "stdout",
     "output_type": "stream",
     "text": [
      "'chiku' occurs in the sentence 2 times\n",
      "'banana' occurs in the sentence 1 times\n",
      "'mango' occurs in the sentence 2 times\n",
      "'apple' occurs in the sentence 2 times\n",
      "'guava' occurs in the sentence 2 times\n"
     ]
    }
   ],
   "source": [
    "def count_word(string):\n",
    "    words = string.split()\n",
    "    unique_words = []\n",
    "    for word in words:\n",
    "        if word not in unique_words:\n",
    "            unique_words.append(word)\n",
    "    for word in unique_words:\n",
    "        print(\"'{}' occurs in the sentence {} times\".format(word, words.count(word)))\n",
    "\n",
    "# Test the function\n",
    "string = 'chiku banana mango apple mango chiku guava apple guava'\n",
    "count_word(string)"
   ]
  },
  {
   "cell_type": "markdown",
   "id": "4f02274f-8327-4827-bc83-98389d8cd3c2",
   "metadata": {},
   "source": [
    "**Task 1: Program to count the occurrences of particular word in a given string sentence**"
   ]
  },
  {
   "cell_type": "code",
   "execution_count": 2,
   "id": "f492ad88-0666-4c28-9424-4e4d7e221a7d",
   "metadata": {},
   "outputs": [
    {
     "name": "stdout",
     "output_type": "stream",
     "text": [
      "Count of the word 'banana' is 3\n"
     ]
    }
   ],
   "source": [
    "def count_w(string, w):\n",
    "    count = 0\n",
    "    words = string.split()\n",
    "    for i in range(0, len(words)):\n",
    "        if w == words[i]:\n",
    "            count += 1\n",
    "    return count\n",
    "    \n",
    "string = \"apple banana orange apple banana apple orange mango banana\"\n",
    "word = \"banana\"\n",
    "count = count_w(string, word)\n",
    "print(\"Count of the word '{}' is {}\".format(word, count))\n"
   ]
  },
  {
   "cell_type": "code",
   "execution_count": null,
   "id": "b2b583f9-2e0e-4987-8713-e30f0144d4df",
   "metadata": {},
   "outputs": [],
   "source": []
  }
 ],
 "metadata": {
  "kernelspec": {
   "display_name": "Python 3 (ipykernel)",
   "language": "python",
   "name": "python3"
  },
  "language_info": {
   "codemirror_mode": {
    "name": "ipython",
    "version": 3
   },
   "file_extension": ".py",
   "mimetype": "text/x-python",
   "name": "python",
   "nbconvert_exporter": "python",
   "pygments_lexer": "ipython3",
   "version": "3.12.2"
  }
 },
 "nbformat": 4,
 "nbformat_minor": 5
}
