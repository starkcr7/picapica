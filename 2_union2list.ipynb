{
 "cells": [
  {
   "cell_type": "markdown",
   "id": "ba399200-8801-4fcc-a1fa-eea04d873df7",
   "metadata": {},
   "source": [
    "# Lab2: Program to find union of two lists"
   ]
  },
  {
   "cell_type": "markdown",
   "id": "6fa699b3-fc3f-455f-ae4a-321074e3ec2e",
   "metadata": {},
   "source": [
    "**Methods to concatanate two lists**"
   ]
  },
  {
   "cell_type": "code",
   "execution_count": 1,
   "id": "bbc7f63a-eecf-4a80-a993-6f10a9eaad29",
   "metadata": {},
   "outputs": [
    {
     "name": "stdin",
     "output_type": "stream",
     "text": [
      "Enter the size of first list: 5\n",
      "Enter number: 1\n",
      "Enter number: 3\n",
      "Enter number: 5\n",
      "Enter number: 7\n",
      "Enter number: 9\n"
     ]
    },
    {
     "name": "stdout",
     "output_type": "stream",
     "text": [
      "List 1: [1, 3, 5, 7, 9]\n"
     ]
    }
   ],
   "source": [
    "list1 = []\n",
    "size1 = int(input(\"Enter the size of first list:\"))\n",
    "for i in range(size1):\n",
    " num1 = int(input(\"Enter number:\"))\n",
    " list1.append(num1)\n",
    "print(\"List 1:\", list1)\n"
   ]
  },
  {
   "cell_type": "code",
   "execution_count": 2,
   "id": "05051470-aabb-4401-bcc3-d05b985ef5fe",
   "metadata": {},
   "outputs": [
    {
     "name": "stdin",
     "output_type": "stream",
     "text": [
      "Enter the size of second list: 5\n",
      "Enter number: 0\n",
      "Enter number: 2\n",
      "Enter number: 4\n",
      "Enter number: 6\n",
      "Enter number: 8\n"
     ]
    },
    {
     "name": "stdout",
     "output_type": "stream",
     "text": [
      "List 2: [0, 2, 4, 6, 8]\n"
     ]
    }
   ],
   "source": [
    "list2 = []\n",
    "size2 = int(input(\"Enter the size of second list:\"))\n",
    "for i in range(size2):\n",
    " num2 = int(input(\"Enter number:\"))\n",
    " list2.append(num2)\n",
    "print(\"List 2:\", list2)\n"
   ]
  },
  {
   "cell_type": "markdown",
   "id": "aaf51716-2ffb-4056-ad3b-e374bffa6415",
   "metadata": {},
   "source": [
    "**Method 1: Using '+' operator**"
   ]
  },
  {
   "cell_type": "code",
   "execution_count": 3,
   "id": "0f08a9bb-bc6b-46ed-b619-3db774f26e82",
   "metadata": {},
   "outputs": [
    {
     "name": "stdout",
     "output_type": "stream",
     "text": [
      "List 1: [1, 3, 5, 7, 9]\n",
      "List 2: [0, 2, 4, 6, 8]\n",
      "Concatenated list:  [1, 3, 5, 7, 9, 0, 2, 4, 6, 8]\n"
     ]
    }
   ],
   "source": [
    "union_list = list1 + list2\n",
    "print(\"List 1:\", list1)\n",
    "print(\"List 2:\", list2)\n",
    "print(\"Concatenated list: \", union_list)"
   ]
  },
  {
   "cell_type": "markdown",
   "id": "cc0de933-93ea-4d27-a657-be4774142eab",
   "metadata": {},
   "source": [
    "**Method 2: Using '*' operator**"
   ]
  },
  {
   "cell_type": "code",
   "execution_count": 4,
   "id": "a86b083c-637b-4dc7-90a2-e0f3aff838d8",
   "metadata": {},
   "outputs": [
    {
     "name": "stdout",
     "output_type": "stream",
     "text": [
      "List 1: [1, 3, 5, 7, 9]\n",
      "List 2: [0, 2, 4, 6, 8]\n",
      "Concatenated list:  [1, 3, 5, 7, 9, 0, 2, 4, 6, 8]\n"
     ]
    }
   ],
   "source": [
    "union_list = [*list1, *list2]\n",
    "print(\"List 1:\", list1)\n",
    "print(\"List 2:\", list2)\n",
    "print(\"Concatenated list: \", union_list)"
   ]
  },
  {
   "cell_type": "markdown",
   "id": "9a875011-d034-45d4-8f74-0f8740e3ae08",
   "metadata": {},
   "source": [
    "**Method 3: Using set() method**"
   ]
  },
  {
   "cell_type": "code",
   "execution_count": 5,
   "id": "06c33fa1-bea7-4340-9e8c-4799138ca5c0",
   "metadata": {},
   "outputs": [
    {
     "name": "stdout",
     "output_type": "stream",
     "text": [
      "List 1: [1, 3, 5, 7, 9]\n",
      "List 2: [0, 2, 4, 6, 8]\n",
      "Concatenated list:  [0, 1, 2, 3, 4, 5, 6, 7, 8, 9]\n"
     ]
    }
   ],
   "source": [
    "union_list = list(set(list1+list2))\n",
    "print(\"List 1:\", list1)\n",
    "print(\"List 2:\", list2)\n",
    "print(\"Concatenated list: \", union_list)\n"
   ]
  },
  {
   "cell_type": "markdown",
   "id": "2d83f0b1-acc1-450a-80b9-1ad70002755f",
   "metadata": {},
   "source": [
    "**Method 4: Using itertools.chain()**"
   ]
  },
  {
   "cell_type": "code",
   "execution_count": 7,
   "id": "094395d1-bc29-4a5c-b51d-3caf2c86969b",
   "metadata": {},
   "outputs": [
    {
     "name": "stdout",
     "output_type": "stream",
     "text": [
      "List 1: [1, 3, 5, 7, 9]\n",
      "List 2: [0, 2, 4, 6, 8]\n",
      "Concatenated list:  [1, 3, 5, 7, 9, 0, 2, 4, 6, 8]\n"
     ]
    }
   ],
   "source": [
    "import itertools\n",
    "print(\"List 1:\", list1)\n",
    "print(\"List 2:\", list2)\n",
    "print(\"Concatenated list: \", union_list)\n",
    "union_list = list(itertools.chain(list1, list2))"
   ]
  },
  {
   "cell_type": "markdown",
   "id": "1a826058-8aa7-4b09-9520-9154c7d7cf57",
   "metadata": {},
   "source": [
    "**Method 5: Using extend() Method**"
   ]
  },
  {
   "cell_type": "code",
   "execution_count": 8,
   "id": "cbec859c-cc74-426d-8035-92f783cf5789",
   "metadata": {},
   "outputs": [
    {
     "name": "stdout",
     "output_type": "stream",
     "text": [
      "Concatenated list:  [1, 3, 5, 7, 9, 0, 2, 4, 6, 8]\n"
     ]
    }
   ],
   "source": [
    "list1.extend(list2)\n",
    "print(\"Concatenated list: \", list1)"
   ]
  },
  {
   "cell_type": "markdown",
   "id": "03fbea83-2698-4044-a616-c29e0e5542b2",
   "metadata": {},
   "source": [
    "**Method6: Using append()**"
   ]
  },
  {
   "cell_type": "code",
   "execution_count": 9,
   "id": "2fb096d2-6bab-47d5-aa20-7b6944460ef5",
   "metadata": {},
   "outputs": [
    {
     "name": "stdout",
     "output_type": "stream",
     "text": [
      "Concatenated list:  [1, 3, 5, 7, 9, 0, 2, 4, 6, 8, 0, 2, 4, 6, 8]\n"
     ]
    }
   ],
   "source": [
    "for i in list2:\n",
    " list1.append(i)\n",
    "print(\"Concatenated list: \", list1)"
   ]
  }
 ],
 "metadata": {
  "kernelspec": {
   "display_name": "Python 3 (ipykernel)",
   "language": "python",
   "name": "python3"
  },
  "language_info": {
   "codemirror_mode": {
    "name": "ipython",
    "version": 3
   },
   "file_extension": ".py",
   "mimetype": "text/x-python",
   "name": "python",
   "nbconvert_exporter": "python",
   "pygments_lexer": "ipython3",
   "version": "3.12.2"
  }
 },
 "nbformat": 4,
 "nbformat_minor": 5
}
