{
 "cells": [
  {
   "cell_type": "markdown",
   "metadata": {},
   "source": [
    "Lab12: Program to read a file and capitalise the first letter of every word in file"
   ]
  },
  {
   "cell_type": "code",
   "execution_count": 2,
   "metadata": {},
   "outputs": [
    {
     "name": "stdout",
     "output_type": "stream",
     "text": [
      "Enter the file name: example.txt\n",
      "Capitalization successful!\n",
      "Capitalized content:\n",
      "This Is A Sample Text File. It Contains Some Words.\n"
     ]
    }
   ],
   "source": [
    "def capitalize_first_letter(word):\n",
    "    return word.capitalize()\n",
    "\n",
    "def capitalize_file(file_name):\n",
    "    try:\n",
    "        with open(file_name, 'r') as file:\n",
    "            content = file.read()\n",
    "        capitalized_content = ' '.join(capitalize_first_letter(word) for word in content.split())\n",
    "        with open(file_name, 'w') as file:\n",
    "            file.write(capitalized_content)\n",
    "        print(\"Capitalization successful!\")\n",
    "        # Read and output the capitalized content\n",
    "        with open(file_name, 'r') as file:\n",
    "            capitalized_content = file.read()\n",
    "        print(\"Capitalized content:\")\n",
    "        print(capitalized_content)\n",
    "    except FileNotFoundError:\n",
    "        print(f\"File '{file_name}' not found.\")\n",
    "\n",
    "# Example usage:\n",
    "file_name = input(\"Enter the file name: \")\n",
    "capitalize_file(file_name)\n"
   ]
  },
  {
   "cell_type": "markdown",
   "metadata": {},
   "source": [
    " Task1: Without using title()"
   ]
  },
  {
   "cell_type": "code",
   "execution_count": 3,
   "metadata": {},
   "outputs": [
    {
     "name": "stdout",
     "output_type": "stream",
     "text": [
      "My First File; This File Contains Three Lines\n"
     ]
    }
   ],
   "source": [
    "str1 = \" \"\n",
    "with open(\"example2.txt\", \"w\") as f:\n",
    "    f.write(\"My first file; This file\\n\")\n",
    "    f.write(\"contains three lines\\n\")\n",
    "\n",
    "with open(\"example2.txt\", 'r') as f:\n",
    "    a = f.read()\n",
    "\n",
    "list1 = a.split()\n",
    "for i in list1:\n",
    "    if str1 == \" \":\n",
    "        str1 = i.capitalize()\n",
    "    else:\n",
    "        str1 = str1 + \" \" + i.capitalize()\n",
    "\n",
    "print(str1)\n"
   ]
  },
  {
   "cell_type": "markdown",
   "metadata": {},
   "source": [
    "Task 2: To read a file and Ask user in which format he or she wants to display the file\n"
   ]
  },
  {
   "cell_type": "code",
   "execution_count": 5,
   "metadata": {},
   "outputs": [
    {
     "name": "stdout",
     "output_type": "stream",
     "text": [
      "Enter a choice:\n",
      "1 for Each letter of Every word in uppercase\n",
      "2 for Display content in uppercase\n",
      "3 for Display content in lowercase\n",
      "4 for Swap case of each letter\n",
      "5 for exit\n",
      "1\n",
      "This Is A Sample File.\n",
      "Enter a choice:\n",
      "1 for Each letter of Every word in uppercase\n",
      "2 for Display content in uppercase\n",
      "3 for Display content in lowercase\n",
      "4 for Swap case of each letter\n",
      "5 for exit\n",
      "2\n",
      "THIS IS A SAMPLE FILE.\n",
      "Enter a choice:\n",
      "1 for Each letter of Every word in uppercase\n",
      "2 for Display content in uppercase\n",
      "3 for Display content in lowercase\n",
      "4 for Swap case of each letter\n",
      "5 for exit\n",
      "3\n",
      "this is a sample file.\n",
      "Enter a choice:\n",
      "1 for Each letter of Every word in uppercase\n",
      "2 for Display content in uppercase\n",
      "3 for Display content in lowercase\n",
      "4 for Swap case of each letter\n",
      "5 for exit\n",
      "4\n",
      "tHIS IS A SAMPLE FILE.\n",
      "Enter a choice:\n",
      "1 for Each letter of Every word in uppercase\n",
      "2 for Display content in uppercase\n",
      "3 for Display content in lowercase\n",
      "4 for Swap case of each letter\n",
      "5 for exit\n",
      "5\n"
     ]
    }
   ],
   "source": [
    "with open(\"test.txt\", \"r\") as f:\n",
    "    content = f.read()\n",
    "\n",
    "while True:\n",
    "    print(\"Enter a choice:\")\n",
    "    print(\"1 for Each letter of Every word in uppercase\")\n",
    "    print(\"2 for Display content in uppercase\")\n",
    "    print(\"3 for Display content in lowercase\")\n",
    "    print(\"4 for Swap case of each letter\")\n",
    "    print(\"5 for exit\")\n",
    "    \n",
    "    choice = int(input())\n",
    "    \n",
    "    if choice == 1:\n",
    "        print(content.title())\n",
    "    elif choice == 2:\n",
    "        print(content.upper())\n",
    "    elif choice == 3:\n",
    "        print(content.lower())\n",
    "    elif choice == 4:\n",
    "        print(content.swapcase())\n",
    "    elif choice == 5:\n",
    "        break\n",
    "    else:\n",
    "        print(\"Enter correct choice\")\n"
   ]
  }
 ],
 "metadata": {
  "kernelspec": {
   "display_name": "Python 3",
   "language": "python",
   "name": "python3"
  },
  "language_info": {
   "codemirror_mode": {
    "name": "ipython",
    "version": 3
   },
   "file_extension": ".py",
   "mimetype": "text/x-python",
   "name": "python",
   "nbconvert_exporter": "python",
   "pygments_lexer": "ipython3",
   "version": "3.7.0"
  }
 },
 "nbformat": 4,
 "nbformat_minor": 2
}
