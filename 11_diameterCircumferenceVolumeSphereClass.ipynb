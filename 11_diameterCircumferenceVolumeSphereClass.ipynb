{
 "cells": [
  {
   "cell_type": "markdown",
   "metadata": {},
   "source": [
    "Program to Compute the diameter, circumference, & volume of sphere using class"
   ]
  },
  {
   "cell_type": "code",
   "execution_count": 1,
   "metadata": {},
   "outputs": [
    {
     "name": "stdout",
     "output_type": "stream",
     "text": [
      "Enter the radius of the sphere: 5\n",
      "Diameter of the sphere: 10.0\n",
      "Circumference of the sphere: 31.41592653589793\n",
      "Volume of the sphere: 523.5987755982989\n"
     ]
    }
   ],
   "source": [
    "import math\n",
    "\n",
    "class Sphere:\n",
    "   def __init__(self, radius):\n",
    "       self.radius = radius\n",
    "\n",
    "   def diameter(self):\n",
    "       return 2 * self.radius\n",
    "\n",
    "   def circumference(self):\n",
    "       return 2 * math.pi * self.radius\n",
    "\n",
    "   def volume(self):\n",
    "       return (4/3) * math.pi * (self.radius ** 3)\n",
    "\n",
    "# Example usage:\n",
    "radius = float(input(\"Enter the radius of the sphere: \"))\n",
    "sphere = Sphere(radius)\n",
    "print(\"Diameter of the sphere:\", sphere.diameter())\n",
    "print(\"Circumference of the sphere:\", sphere.circumference())\n",
    "print(\"Volume of the sphere:\", sphere.volume())"
   ]
  },
  {
   "cell_type": "markdown",
   "metadata": {},
   "source": [
    "Task1: Write a python class to find validity of a string of parenthesis"
   ]
  },
  {
   "cell_type": "code",
   "execution_count": 2,
   "metadata": {},
   "outputs": [
    {
     "name": "stdout",
     "output_type": "stream",
     "text": [
      "{[](){}} - Valid\n",
      "[{}{})(] - Invalid\n",
      "((()) - Invalid\n"
     ]
    }
   ],
   "source": [
    "class ParenthesisChecker:\n",
    "   def __init__(self):\n",
    "       self.open_list = [\"[\", \"{\", \"(\"]\n",
    "       self.close_list = [\"]\", \"}\", \")\"]\n",
    "\n",
    "   def check(self, myStr):\n",
    "       stack = []\n",
    "       for i in myStr:\n",
    "           if i in self.open_list:\n",
    "               stack.append(i)\n",
    "           elif i in self.close_list:\n",
    "               pos = self.close_list.index(i)\n",
    "               if ((len(stack) > 0) and (self.open_list[pos] == stack[len(stack) - 1])):\n",
    "                   stack.pop()\n",
    "               else:\n",
    "                   return \"Invalid\"\n",
    "       if len(stack) == 0:\n",
    "           return \"Valid\"\n",
    "       else:\n",
    "           return \"Invalid\"\n",
    "\n",
    "# Example usage\n",
    "checker = ParenthesisChecker()\n",
    "string = \"{[](){}}\"\n",
    "print(string, \"-\", checker.check(string))\n",
    "string = \"[{}{})(]\"\n",
    "print(string, \"-\", checker.check(string))\n",
    "string = \"((())\"\n",
    "print(string, \"-\", checker.check(string))"
   ]
  },
  {
   "cell_type": "markdown",
   "metadata": {},
   "source": [
    "Task2: To find pair of elements in given array whose sum equals target"
   ]
  },
  {
   "cell_type": "code",
   "execution_count": 3,
   "metadata": {},
   "outputs": [
    {
     "name": "stdout",
     "output_type": "stream",
     "text": [
      "The index values of input list where you will find the sum 50 are [[0, 3], [1, 2]]\n"
     ]
    }
   ],
   "source": [
    "class SubsetSum:\n",
    "   def pairsum(self, listi, target):\n",
    "       list2 = []\n",
    "       list3 = []\n",
    "       for i in range(len(listi)):\n",
    "           for j in range(i+1, len(listi)):\n",
    "               if listi[i] + listi[j] == target:\n",
    "                   list2 = [i, j]\n",
    "                   if not list3:\n",
    "                       list3.append(list2)\n",
    "                   else:\n",
    "                       flag = False\n",
    "                       for k in list3:\n",
    "                           if k == [j, i]:\n",
    "                               flag = True\n",
    "                               break\n",
    "                       if not flag:\n",
    "                           list3.append(list2)\n",
    "       if not list3:\n",
    "           print(\"No pair found\")\n",
    "       else:\n",
    "           print(\"The index values of input list where you will find the sum\", target, \"are\", list3)\n",
    "\n",
    "# Example usage\n",
    "a = SubsetSum()\n",
    "list1 = [10, 20, 30, 40, 50, 60, 70]\n",
    "target = 50\n",
    "a.pairsum(list1, target)"
   ]
  }
 ],
 "metadata": {
  "kernelspec": {
   "display_name": "Python 3",
   "language": "python",
   "name": "python3"
  },
  "language_info": {
   "codemirror_mode": {
    "name": "ipython",
    "version": 3
   },
   "file_extension": ".py",
   "mimetype": "text/x-python",
   "name": "python",
   "nbconvert_exporter": "python",
   "pygments_lexer": "ipython3",
   "version": "3.7.0"
  }
 },
 "nbformat": 4,
 "nbformat_minor": 2
}
